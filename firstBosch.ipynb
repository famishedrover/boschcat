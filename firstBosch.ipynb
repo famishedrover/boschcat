{
 "cells": [
  {
   "cell_type": "code",
   "execution_count": null,
   "metadata": {
    "collapsed": true
   },
   "outputs": [],
   "source": [
    "import pandas as pd\n",
    "import numpy as np"
   ]
  },
  {
   "cell_type": "code",
   "execution_count": null,
   "metadata": {
    "collapsed": true
   },
   "outputs": [],
   "source": [
    "data = pd.read_csv('dataset.csv')\n",
    "data = data.drop(['Unnamed: 8'],axis=1)\n",
    "data.tail(1000)"
   ]
  },
  {
   "cell_type": "code",
   "execution_count": null,
   "metadata": {
    "collapsed": false
   },
   "outputs": [],
   "source": [
    "data1 = data[['Ax','Ay','Az','Gx','Gy','Gz','Sensor time']]\n",
    "data2 = data[['Ax.1','Ay.1','Az.1','Gx.1','Gy.1','Gz.1','Sensor time.1']]"
   ]
  },
  {
   "cell_type": "code",
   "execution_count": null,
   "metadata": {
    "collapsed": false
   },
   "outputs": [],
   "source": [
    "data1 = data1.dropna()\n",
    "data2 = data2.dropna()"
   ]
  },
  {
   "cell_type": "code",
   "execution_count": null,
   "metadata": {
    "collapsed": false
   },
   "outputs": [],
   "source": [
    "type(data1)"
   ]
  },
  {
   "cell_type": "markdown",
   "metadata": {},
   "source": [
    "# DATA1"
   ]
  },
  {
   "cell_type": "code",
   "execution_count": null,
   "metadata": {
    "collapsed": false
   },
   "outputs": [],
   "source": [
    "data1"
   ]
  },
  {
   "cell_type": "code",
   "execution_count": null,
   "metadata": {
    "collapsed": false
   },
   "outputs": [],
   "source": [
    "x = np.unique(data1['Sensor time'])\n",
    "print len(x)\n",
    "i=0\n",
    "ff = []\n",
    "for xx in x:\n",
    "    i+=1\n",
    "    f = pd.DataFrame(data1[data1['Sensor time'] == xx].mean()).T\n",
    "    ff.append(f)\n",
    "df1 = pd.concat(ff, ignore_index=True)\n",
    "df1"
   ]
  },
  {
   "cell_type": "markdown",
   "metadata": {},
   "source": [
    "# DATA2"
   ]
  },
  {
   "cell_type": "code",
   "execution_count": null,
   "metadata": {
    "collapsed": false
   },
   "outputs": [],
   "source": [
    "data2"
   ]
  },
  {
   "cell_type": "code",
   "execution_count": null,
   "metadata": {
    "collapsed": false
   },
   "outputs": [],
   "source": [
    "x2 = np.unique(data2['Sensor time.1'])\n",
    "print len(x2)\n",
    "i=0\n",
    "ff = []\n",
    "for xx in x2:\n",
    "    i+=1\n",
    "    f = pd.DataFrame(data2[data2['Sensor time.1'] == xx].mean()).T\n",
    "    ff.append(f)\n",
    "df2 = pd.concat(ff, ignore_index=True)\n",
    "df2"
   ]
  },
  {
   "cell_type": "code",
   "execution_count": null,
   "metadata": {
    "collapsed": true
   },
   "outputs": [],
   "source": [
    "from matplotlib import pyplot as plt\n",
    "%matplotlib inline"
   ]
  },
  {
   "cell_type": "code",
   "execution_count": null,
   "metadata": {
    "collapsed": false
   },
   "outputs": [],
   "source": [
    "def plotcol(x1):\n",
    "    x2 = x1+'.1'\n",
    "    plt.title(x1)\n",
    "    plt.plot(df1['Sensor time'],df1[x1])\n",
    "    plt.plot(df2['Sensor time.1'],df2[x2])\n",
    "    plt.show()"
   ]
  },
  {
   "cell_type": "code",
   "execution_count": null,
   "metadata": {
    "collapsed": false
   },
   "outputs": [],
   "source": [
    "all_cols = df1.columns[:-1]\n",
    "print all_cols\n",
    "for col in all_cols :\n",
    "    plotcol(col)"
   ]
  },
  {
   "cell_type": "code",
   "execution_count": null,
   "metadata": {
    "collapsed": true
   },
   "outputs": [],
   "source": [
    "from mpl_toolkits.mplot3d import Axes3D"
   ]
  },
  {
   "cell_type": "code",
   "execution_count": null,
   "metadata": {
    "collapsed": false
   },
   "outputs": [],
   "source": [
    "fig = plt.figure()\n",
    "ax = fig.add_subplot(111, projection='3d')\n",
    "ax.scatter(df1['Ax'],df1['Ay'],df1['Az'])"
   ]
  },
  {
   "cell_type": "code",
   "execution_count": null,
   "metadata": {
    "collapsed": true
   },
   "outputs": [],
   "source": []
  },
  {
   "cell_type": "code",
   "execution_count": null,
   "metadata": {
    "collapsed": false
   },
   "outputs": [],
   "source": [
    "plt.title('Plotting Acceleration df1 & df2')\n",
    "plt.plot(df1['Sensor time'],df1['Ax'],'r-')\n",
    "plt.plot(df1['Sensor time'],df1['Ay'],'r+')\n",
    "plt.plot(df1['Sensor time'],df1['Az'],'ro')\n",
    "plt.plot(df2['Sensor time.1'],df2['Ax.1'],'b-')\n",
    "plt.plot(df2['Sensor time.1'],df2['Ay.1'],'b+')\n",
    "plt.plot(df2['Sensor time.1'],df2['Az.1'],'bo')\n",
    "\n",
    "plt.show()"
   ]
  },
  {
   "cell_type": "code",
   "execution_count": null,
   "metadata": {
    "collapsed": true
   },
   "outputs": [],
   "source": []
  }
 ],
 "metadata": {
  "kernelspec": {
   "display_name": "Python 2",
   "language": "python",
   "name": "python2"
  },
  "language_info": {
   "codemirror_mode": {
    "name": "ipython",
    "version": 2
   },
   "file_extension": ".py",
   "mimetype": "text/x-python",
   "name": "python",
   "nbconvert_exporter": "python",
   "pygments_lexer": "ipython2",
   "version": "2.7.13"
  }
 },
 "nbformat": 4,
 "nbformat_minor": 2
}
